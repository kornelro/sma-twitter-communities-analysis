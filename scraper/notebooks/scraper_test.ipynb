{
 "metadata": {
  "language_info": {
   "codemirror_mode": {
    "name": "ipython",
    "version": 3
   },
   "file_extension": ".py",
   "mimetype": "text/x-python",
   "name": "python",
   "nbconvert_exporter": "python",
   "pygments_lexer": "ipython3",
   "version": "3.8.5-final"
  },
  "orig_nbformat": 2,
  "kernelspec": {
   "name": "python3",
   "display_name": "Python 3"
  }
 },
 "nbformat": 4,
 "nbformat_minor": 2,
 "cells": [
  {
   "cell_type": "code",
   "execution_count": 1,
   "metadata": {},
   "outputs": [],
   "source": [
    "import pandas as pd\n",
    "import twint\n",
    "import nest_asyncio\n",
    "nest_asyncio.apply()"
   ]
  },
  {
   "cell_type": "code",
   "execution_count": 2,
   "metadata": {},
   "outputs": [
    {
     "output_type": "execute_result",
     "data": {
      "text/plain": [
       "'3.6.12'"
      ]
     },
     "metadata": {},
     "execution_count": 2
    }
   ],
   "source": [
    "import platform\n",
    "platform.python_version()"
   ]
  },
  {
   "cell_type": "code",
   "execution_count": 3,
   "metadata": {},
   "outputs": [
    {
     "output_type": "execute_result",
     "data": {
      "text/plain": [
       "'/home/work'"
      ]
     },
     "metadata": {},
     "execution_count": 3
    }
   ],
   "source": [
    "import os\n",
    "os.getcwd()"
   ]
  },
  {
   "source": [
    "## TWEETS WITH #TrybunałKonstytucyjny"
   ],
   "cell_type": "markdown",
   "metadata": {}
  },
  {
   "cell_type": "code",
   "execution_count": 29,
   "metadata": {
    "tags": []
   },
   "outputs": [],
   "source": [
    "c = twint.Config()\n",
    "c.Since = \"2020-10-21 00:00:00\"\n",
    "c.Output = (\"./hash_trybunal.csv\")\n",
    "c.Store_csv = True\n",
    "c.Search = '#TrybunałKonstytucyjny'\n",
    "c.Tabs = True"
   ]
  },
  {
   "cell_type": "code",
   "execution_count": 30,
   "metadata": {
    "tags": [
     "outputPrepend"
    ]
   },
   "outputs": [
    {
     "output_type": "stream",
     "name": "stdout",
     "text": [
      "ski znowu nie odpowiada na pytanie i unika tematu wad letalnych. Nie chce się przyznać do tego, że chcą zmuszać do rodzenia, gdy płód nie ma najmniejszych szans na przeżycie np. bezmózgowie.  #WyrokNaKobiety #Aborcja #TrybunałKonstytucyjny #TK\n",
      "1319255304576565251 2020-10-22 12:32:29 +0000 <pokochawszy> \"Nigdy nie istnieje pewność, że wiemy jakie urodzi się dziecko. Pomyłki lekarskie są częste\" i argumenty anegdotyczne. Stan dyskursu w Polsce, jak tam? Zmalau? Urusł? #TrybunałKonstytucyjny\n",
      "1319255093615755264 2020-10-22 12:31:39 +0000 <MateuszDekiert> Wiadomo już co z tym #TrybunałKonstytucyjny jest już wykok\n",
      "1319254964187860993 2020-10-22 12:31:08 +0000 <oko_press> Jesteśmy przed Trybunałem Konstytucyjnym, gdzie sędziowie i dublerzy sędziów obradują nad zakazem aborcji. Fundamentaliści agitują przez megafony, dużo policji, niewielu protestujących #KobietaDecyduje #TrybunałKonstytucyjny #OKOpress  https://t.co/990t8QseZk\n",
      "1319254484019826689 2020-10-22 12:29:14 +0000 <pokochawszy> \"Jako państwo musimy zrobić więcej dla osób chorych\" - tak, zmuszanie kobiet, do rodzenia dzieci, które nie będą nawet świadome, które będą tylko cierpieć, a wraz z nimi te kobiety, to na pewno to, co trzeba zrobić. Tak. #TrybunałKonstytucyjny\n",
      "1319254212811915265 2020-10-22 12:28:09 +0000 <mlodalewica_> Nasze parlamentarzystki z @wiosnabiedronia dzielnie walczą pod #TrybunałKonstytucyjny o prawa kobiet! ✊🏻  #WyrokNaKobiety #PowiedzKomuś #KobietaDecyduje  https://t.co/9jOFF7UtAA\n",
      "1319253565702086656 2020-10-22 12:25:35 +0000 <_radq> Jeśli #TrybunałKonstytucyjny wyda dzisiaj wyrok zgodny z oczekiw. @pisorg to można chyba oczekiwać, że każdy sędzia i poseł/posłanka #pis zaadoptuje niepełnospr., nieuleczalnie chore dziecko z domu dziecka- aby dać kobietom wzór do naśladowania? #WyrokNaKobiety #KobietaDecyduje\n",
      "1319251808624279553 2020-10-22 12:18:36 +0000 <be_happy_x_> Czemu mężczyźni decydują czy mogę zrobić aborcje czy nie, bitch gdybys ty miał macice to aborcja była by legalna ale nie bo to są mężczyźni i wiedza wszystko najlepiej! Kill all men ;)  #TrybunałKonstytucyjny #PowiedzKomuś #WyrokNaKobiety\n",
      "1319251151741747200 2020-10-22 12:15:59 +0000 <DeGwidon> Porównywanie do zwierząt. Dla prawicy kobieta to inkubator, nie człowiek, ale rzecz która ma rodzić. Kobiety mają rodzić martwe płody w imię ideologii. #WyrokNaKobiety #KobietaDecyduje #TrybunałKonstytucyjny\n",
      "1319250971231387650 2020-10-22 12:15:16 +0000 <Borys_Pandov>  https://t.co/KpTah43Lg9  #WyrokNaKobiety #KobietaDecyduje #TrybunałKonstytucyjny  https://t.co/LGKf2WJ1sQ\n",
      "1319249367870496768 2020-10-22 12:08:54 +0000 <OloCzarny> Posiedzenie TK prowadzi Przyłębska, która de facto nie jest prezesem Trybunału, a stanowisko rządu przedstawia Barbara Bartuś, która de facto... nie ma prawa przedstawiać tego stanowiska. Absurd.  #Bartuś #TrybunałKonstytucyjny  #Aborcja  #KobietaDecyduje\n",
      "1319248212583206912 2020-10-22 12:04:18 +0000 <KSzewerda> #WyrokNaKobiety #TrybunałKonstytucyjny\n",
      "1319248155758690305 2020-10-22 12:04:05 +0000 <walachmichal> Art. 38. Rzeczpospolita Polska zapewnia każdemu człowiekowi prawną ochronę życia. #TrybunałKonstytucyjny #Aborcja  https://t.co/AVqYketede\n",
      "1319246740948733952 2020-10-22 11:58:28 +0000 <schlrsister> nie mogę się dzisiaj skupić na nauce totalnie bo tylko odświeżam info o #TrybunałKonstytucyjny jakbym nie wiem czego się spodziewała\n",
      "1319246297078091776 2020-10-22 11:56:42 +0000 <Adriann83110097> Wiecie jak będzie, jeśli #TrybunałKonstytucyjny TO \"klepnie\"? Będzie tak... A potem choroba psychiczna, załamanie, depresja, samobójstwo... Ale kto by się przejmował jakąś obcą babą. Najważniejsze, że zrobiliście dobrze swoim sadystycznym zapędom.  https://t.co/5oGGPjZBOm\n",
      "1319246011466997760 2020-10-22 11:55:34 +0000 <jndoyum> ‘We will never reach a solution that will satisfy everyone’   then how about allowing people to either get an abortion or not get an abortion cause that seems like a very easy solution that will satisfy both sides  #TrybunałKonstytucyjny\n",
      "1319245607446466561 2020-10-22 11:53:57 +0000 <maugorzata> Uważasz, że to drastyczne zdjęcie? Zmuszanie kobiet do rodzenia dziecka, które wkrótce po porodzie umrze w męczarniach, też jest drastyczne - i dla tych \"bronionych\" dzieci, i dla ich matek. #WyrokNaKobiety #NieSkazujcieNaCierpienie #PowiedzKomuś #TrybunałKonstytucyjny  https://t.co/j947Vz59tu\n",
      "1319244815339540480 2020-10-22 11:50:49 +0000 <partiarazem> Cały czas jesteśmy przed budynkiem #TrybunałKonstytucyjny.   PiS i fanatycy chcą zmusić kobiety do rodzenia zdeformowanych płodów i chcą zmusić matki i ojców do patrzenia na to, jak te dzieci umierają w męczarniach.  #WyrokNaKobiety #KobietaDecyduje #PowiedzKomuś  https://t.co/9sRLNby2wk\n",
      "1319243923106062336 2020-10-22 11:47:16 +0000 <sta_klaudia> Jeśli #TrybunałKonstytucyjny zatwierdzi te zmiany, to będzie strach starać się o dziecko! Coraz więcej kobiet będzie deklarować bezdzietność, a więc konserwy uzyskają odwrotny efekt. To #KobietaDecyduje czy chce urodzić chore dziecko czy nie.\n",
      "1319243628104081408 2020-10-22 11:46:05 +0000 <xpopeoffoolsx> Chciałbym, żeby ktoś patrzył na mnie tak, jak Pani Kaja Godek w obiektyw aparatu przed #TrybunałKonstytucyjny.  https://t.co/LFLqFoKRY7\n",
      "1319243259181518848 2020-10-22 11:44:38 +0000 <kkolacinski89> Najwyższy czas skończyć z zabijaniem chorych dzieci! Czas by myślozbrodnia XX wieku wreszcie dokonała żywota i stała się jedynie wstydliwym wspomnieniem #TrybunałKonstytucyjny\n",
      "1319242188677632007 2020-10-22 11:40:22 +0000 <partiarazem> A przed budynkiem #TrybunałKonstytucyjny Kaja Godek.  Bez maseczki 🤡  #KobietaDecyduje #WyrokNaKobiety #PowiedzKomuś  https://t.co/TUMPEaZ8Qk\n",
      "1319241607972048897 2020-10-22 11:38:04 +0000 <MP_Panek> Automatycznie powinno to spowodować anulowanie jakiejkolwiek dyskusji. To najzwyklejsze oszustwo. PiS po raz kolejny pokazuje, że prawo mają głęboko w poważaniu.   #WyrokNaKobiety  #TrybunałKonstytucyjny  #Aborcja\n",
      "1319241404363800578 2020-10-22 11:37:15 +0000 <hellomendesx> Mam nadzieję, że wszystkie osoby \"prolife\" zajmą się później tymi dziećmi z poważnymi wadami genetycznymi i ciężkimi chorobami oraz zapewnią opiekę psychologiczną rodzicom. Skoro każdy ponosi odpowiedzialność za swoje czyny, to Wy też powinniście. #TrybunałKonstytucyjny\n",
      "1319241162495041536 2020-10-22 11:36:18 +0000 <surveyorPL> Warto przeczytac! #TrybunałKonstytucyjny  stop #Aborcja\n",
      "1319240239337115648 2020-10-22 11:32:38 +0000 <maggnetto> @Ela09223293 @patrykmichalski Ja to rozumiem tak, że sędzia Pszczółkowski sugeruje, iż posłowie PiS chcą rozstrzygnięcia, którego koszt poniosą kobiety. To nie musi oznaczać, że sędzia się za takim rozstrzygnięciem opowiada, aczkolwiek tego nie wiem, bo nie siedzę w jego głowie. #TK #TrybunałKonstytucyjny\n",
      "1319239902471593984 2020-10-22 11:31:17 +0000 <wabaranska> TVN24 nareszcie się zorientował, że dzieją się ważniejsze rzeczy od pustych ulic w Austrii.   Rychło w czas.  #KobietaDecyduje #TrybunałKonstytucyjny #PowiedzKomuś\n",
      "1319239147513675778 2020-10-22 11:28:17 +0000 <GYROSCOCK> wiadomo cos juz?  #TrybunałKonstytucyjny\n",
      "1319239101623816196 2020-10-22 11:28:06 +0000 <Marc50034645> 2 pytania do posła wnioskodawcy od sędziego Leona Kieresa #TrybunałKonstytucyjny   - Czy podpisy pod wnioskiem są czytelne - Czy podpisy się powtarzają  ...\n",
      "1319238576882712579 2020-10-22 11:26:01 +0000 <Ningrysica> Zrobiłam nitkę na najpopularniejsze bzdury na temat aborcji, jakie możecie usłyszeć w mediach, ze źródłami do badań naukowych i statystyk  #drugafala #wyroknakobiety #trybunałkonstytucyjny #kobietadecyduje\n",
      "1319238331314688000 2020-10-22 11:25:03 +0000 <pmomro> Najwyższy czas skończyć z zabijaniem. Takie dzieci mają prawo żyć i NIE MA w tym żadnego konfliktu z prawem kobiety do swojego ciała. Mówię to ja, kolega z przedszkola Agaty z Zespołem Downa (wspaniała dziewczyna❗) @TK_GOV_PL #dzieci #TrybunałKonstytucyjny  https://t.co/XufupauatF\n",
      "1319238166730149888 2020-10-22 11:24:23 +0000 <spalinskipatryk> Mam pytanie do @KONFEDERACJA_ i innych prawicowców.  Weźmiecie na siebie odpowiedzialność tych wszystkich ludzkich tragedii i zmuszania kobiet do rodzenia dzieci, które nie są w stanie przeżyć nawet kilku tygodni?  #WyrokNaKobiety #KobietaDecyduje #TrybunałKonstytucyjny\n",
      "1319237453388107776 2020-10-22 11:21:33 +0000 <crispystachu> sprzedaje ktoś może w spoko cenie kolczyki w tym stylu? #koronawiruspolska #TrybunałKonstytucyjny #freemymeal  https://t.co/QXWlISW3PM\n",
      "1319237424590000128 2020-10-22 11:21:26 +0000 <kaziemko> Sędzia Pszczółkowski świetnie punktuje Wróblewskiego. Daje wiare ,że są tam porządni sędziowie(i nie jest on dublerem) #TrybunałKonstytucyjny #WyrokNaKobiety\n",
      "1319236730009038849 2020-10-22 11:18:41 +0000 <ola_taran> Ochrona życia be looking like that #TrybunałKonstytucyjny #KobietaDecyduje\n",
      "1319236480825516032 2020-10-22 11:17:41 +0000 <JestWujek> Sędzia Pszczółkowski jako jedyny z RiGCzem #TrybunałKonstytucyjny\n",
      "1319236127535042561 2020-10-22 11:16:17 +0000 <RuchNarodowy> 🔴LIVE! Transmisja spod siedziby #TrybunałKonstytucyjny!  ▶️ https://t.co/odOKLZh17U  #TarczaDlaŻycia #ProLife\n",
      "1319234565500735488 2020-10-22 11:10:05 +0000 <wabaranska> \"Te działania są podejmowane w imieniu kobiet i dla nich\"  Na pewno nie w moim! #WyrokNaKobiety #KobietaDecyduje #TrybunałKonstytucyjny\n",
      "1319234070845493249 2020-10-22 11:08:07 +0000 <SPZYDEK> Brawo dla Posła wnioskodawcy przed #TrybunałKonstytucyjny   Jezu, Ty się tym zajmij...\n",
      "1319234023948955649 2020-10-22 11:07:56 +0000 <MP_Panek> Proponuję, aby zakazać zachodzenia w ciążę. Wtedy na pewno nie będzie #aborcja. 🤦‍♀️  #WyrokNaKobiety #tk #TrybunałKonstytucyjny\n",
      "1319233705303511041 2020-10-22 11:06:40 +0000 <Zachary_Zorian> @wabaranska Słowa Ulpiana. Dura lex sed lex. Pozostaje lepiej wybierać do parlamentu lub wybierać sędziów w demokratycznych wyborach. #TrybunałKonstytucyjny #WyrokNaKobiety\n",
      "1319233209096458240 2020-10-22 11:04:41 +0000 <wabaranska> A może jakieś inne przesłanki do wypowiadania się w kwestii, która go nie dotyczy? Nie? No co za zaskoczenie.  #WyrokNaKobiety  #PowiedzKomuś  #TrybunałKonstytucyjny\n",
      "1319232100512550914 2020-10-22 11:00:17 +0000 <Szedzik77> @magdadropek #TrybunałKonstytucyjny był atrapą za Platformy. Teraz jest jak być powinno.\n",
      "1319230547462410240 2020-10-22 10:54:07 +0000 <wiktoriak04> oglądnie TK to takie włączenie sobie cyrku w domu i zastanawianie się czy się śmiać czy płakać #PiekłoKobiet #TrybunałKonstytucyjny\n",
      "1319229912792879109 2020-10-22 10:51:35 +0000 <MariuszKMatczak> PiS rozstawia nas po kątach. A dalsze tłumaczenie sobie na twitterze, jaki to PiS jest zły, nic nie da. Potrzeba realnych działań na rzecz uświadomienia społeczeństwa i odsunięcia ich od władzy! #TrybunałKonstytucyjny #Czarnek\n",
      "1319227687999803392 2020-10-22 10:42:45 +0000 <princeoftekkno> przecież to nie jest prawdziwy #TrybunałKonstytucyjny XD\n",
      "1319227529673191425 2020-10-22 10:42:07 +0000 <wabaranska> Również zdaniem Wróblewskiego \"Nigdy nie osiągniemy sytuacji, która byłaby dla wszystkich zadowalająca\".  A może by tak sytuacja, w której jak nie chcesz aborcji, to jej sobie nie rób?  #WyrokNaKobiety #PowiedzKomuś #TrybunałKonstytucyjny\n",
      "1319227318364233728 2020-10-22 10:41:17 +0000 <wabaranska> Mamy w Polsce, zdaniem Wróblewskiego, \"interpretację bardzo liberalną\" w kwestii prawa do aborcji.  To tak, jakbyście nie wiedzieli. Bo ja nie wiedziałam i myślałam, że jedną z najbardziej konserwatywnych w Europie.  #WyrokNaKobiety #PowiedzKomuś #TrybunałKonstytucyjny\n",
      "1319226751998885889 2020-10-22 10:39:02 +0000 <magdadropek> Słucham tego, co się dzieje podczas atrapy #TrybunałKonstytucyjny ws. #aborcja i czuję się jakbym oglądała nowy sezon American Crime Story na @NetflixPL, zobaczycie, jeszcze tak będzie...Wszystkim, które się torturują jak ja wysyłam dużo uścisków i ciepła, wiecie co z ignorantami\n",
      "1319225735907782658 2020-10-22 10:35:00 +0000 <RSuligowski> #TrybunałKonstytucyjny   skandaliczne stanowisko @PK_GOV_PL\n",
      "1319224479059501056 2020-10-22 10:30:00 +0000 <Tygodnik_Sieci> @SylwiaSpurek i @__Lewica ogłosili walkę o wolność i ciała kobiet pod hasłem „aborcja jest ok”.  #Aborcja #TrybunałKonstytucyjny #Sejm #Lewica   https://t.co/PnCkiFORIF\n",
      "1319223826593566720 2020-10-22 10:27:24 +0000 <AKowalinski> Czekamy na decyzję Trybunału. Zaczęli obradować o 11:00. Czy 22 października 2020 roku będzie dniem końca aborcji eugenicznej w Polsce? #ProLife  #TrybunałKonstytucyjny  #RuchNarodowy #Konfederacja\n",
      "1319223498535993344 2020-10-22 10:26:06 +0000 <Jacek_Philosoph> Wszystkim tym, którzy decydują za nasze obywatelki dedykuję:   https://t.co/z6QwmxPyHD #PowiedzKomuś #WyrokNaKobiety #TrybunałKonstytucyjny\n",
      "1319223002266062848 2020-10-22 10:24:08 +0000 <pawel_wieckowsk> Razem z działaczami @RuchNarodowy walczymy o życie nienarodzonych dzieci 👨‍👩‍👧‍👦! Trybunał Konstytucyjny ustali dziś, czy aborcja eugeniczna jest zgodna z Konstytucją. #RuchNarodowy #Konfederacja #ProLife #TarczaDlaŻycia  #TrybunałKonstytucyjny  https://t.co/nweds0Miqc\n",
      "1319222966853505025 2020-10-22 10:23:59 +0000 <wabaranska> Prokuratura Gen. oraz Sejm [pomijając, że to nie jest tak naprawdę opinia Sejmu] SĄ ZA UZNANIEM WNIOSKU O UZNANIE ABORCJI Z POWODU WAD PŁODU O NIEKONSTYTUCYJNOŚĆ  NIE WNOSZĄ O UMORZENIE  [chociaż bardzo chciałabym się mylić!] #WyrokNaKobiety #PowiedzKomuś #TrybunałKonstytucyjny\n",
      "1319222899878907904 2020-10-22 10:23:43 +0000 <EurActivPoland> 🇸🇰 W słowackim parlamencie przewagą jednego głosu odrzucono projekt ograniczający dostępność aborcji.  #Aborcja #TrybunałKonstytucyjny   https://t.co/TC57FXO2Ex\n",
      "1319222199333552128 2020-10-22 10:20:56 +0000 <smdczestochowa> #PowiedzKomuś #PiekłoKobiet #PrawaKobiet #TrybunałKonstytucyjny - #oczywiście #atrapa  @EurActivPoland  https://t.co/dk5LmUlfJT\n",
      "1319221134869540864 2020-10-22 10:16:43 +0000 <wabaranska> Wspomnienie o umarzaniu w niczym nie poprawia sytuacji – opinie wskazują, że ich autorzy chcą uznania aborcji z powodu wad płodu ZA NIEZGODNĄ Z KONSTYTUCJĄ Po prostu z kilku z wymienionych powodów, a pozostałymi się nie zajmują #WyrokNaKobiety #PowiedzKomuś #TrybunałKonstytucyjny\n",
      "1319220534874427392 2020-10-22 10:14:20 +0000 <AdamBednarek4> Tak a propos #PowiedzKomuś #PiekłoKobiet #PrawaKobiet #TrybunałKonstytucyjny - #oczywiście #atrapa  Polecam @EurActivPoland, jeżeli chcecie poczytać o europejskich sprawach i polityce zagranicznej 👌  https://t.co/Dy2GrGbVKf\n",
      "1319216932646572033 2020-10-22 10:00:01 +0000 <Tygodnik_Sieci> Przed Trybunałem Konstytucyjnym w czwartek po godz. 11 rozpoczęła się rozprawa w sprawie dopuszczalności aborcji z powodu przesłanki embriopatologicznej. Relacja na żywo.  #Aborcja #TrybunałKonstytucyjny   https://t.co/0yBrPk9rUS\n",
      "1319216608905252864 2020-10-22 09:58:44 +0000 <Witold_Narwojsz>  https://t.co/oZoPiAv7eu  #modlitwa #TrybunałKonstytucyjny #aborcja #dzieciobójstwo\n",
      "1319216042942603264 2020-10-22 09:56:29 +0000 <wabaranska> przemawia posłanka Barbara Bartuś jako przedstawicielka Sejmu  #WyrokNaKobiety #PowiedzKomuś #TrybunałKonstytucyjny\n",
      "1319212745309421568 2020-10-22 09:43:22 +0000 <WartoRozmawiac> W najbliższą sobotę, 24 października o godz. 21.35 w TVP1 wyemitowany zostanie ważny amerykański film pro-life pt. \"Nieplanowane\". Zachęcamy do oglądania i przekazywania informacji dalej.  #ProLife #TrybunałKonstytucyjny\n",
      "1319212197113974786 2020-10-22 09:41:12 +0000 <wabaranska> RPO mówi o potrzebie debaty, TVN24 opowiada o kolejkach do punktu pobrań w Szczecinie... Będziemy pamiętać.  #WyrokNaKobiety #PowiedzKomuś #TrybunałKonstytucyjny\n",
      "1319212127635255296 2020-10-22 09:40:55 +0000 <magdadropek> Każdy człowiek ma prawo do ochrony przez to państwo - mówią fundamentaliści z @pisorgpl w #TrybunałKonstytucyjny. Aha. No chyba, że jesteś: - osobą w ciąży - osobą LGBT - niekatolikiem To wtedy wypad, nie masz prawa do ochrony.  OBRZYDLIWI HIPOKRYCI #WyrokNaKobiety\n",
      "1319210980484796417 2020-10-22 09:36:22 +0000 <magdadropek> Tymczasem przed #TrybunałKonstytucyjny Policja pokazuje kto jest równy, a kto równiejszy #WyrokNaKobiety 😡  Potrzebujesz #aborcja? #AborcjaBezGranic ☎️ +48 22 29 22 597  https://t.co/E4YZuPHspG\n",
      "1319210396482473985 2020-10-22 09:34:02 +0000 <NekaWer> @mikeluczak @ASZdziennik Zdaje sobie z tego sprawę niestety... Takie udostępnianiem postów to z mojej strony już trochę krzyk rozpaczy i bezsilności 😔 No w tym momencie tak naprawdę możemy głownie czekać co postanowi #TrybunałKonstytucyjny\n",
      "1319209984215928833 2020-10-22 09:32:24 +0000 <wabaranska> \"Przerwanie ciąży z powodu wad genetycznych kwalifikuje się jako tzw. eugenikę oddolną\"  Ciekawe kto kwalifikuje, kolejna organizacja ludzi chorych z nienawiści do kobiet?  #WyrokNaKobiety #PowiedzKomuś #TrybunałKonstytucyjny\n",
      "1319208744836890624 2020-10-22 09:27:29 +0000 <wabaranska> \"Brakuje dowodów, że urodzenie dziecka, które umrze w męczarniach kilka godzin po porodzie ma negatywny wpływ na psychikę rodziców.\"  Nie wierzę w to, co słyszę. Po prostu nie wierzę. #WyrokNaKobiety #PowiedzKomuś #TrybunałKonstytucyjny\n",
      "1319208404510978049 2020-10-22 09:26:07 +0000 <wabaranska> Jak sądziłam się o krwawe billboardy to ulubionym argumentem anti-choice'ów też była anegdotyczna działaczka z zespołem Turnera, która jest wspaniałą lekarką etc.  Jakieś przykłady wspaniałych lekarzy z zespołem Pataua? Nie?  #WyrokNaKobiety #PowiedzKomuś #TrybunałKonstytucyjny\n",
      "1319207917195845632 2020-10-22 09:24:11 +0000 <magdadropek> Jestem tak strasznie zmęczona tym, że w Polsce o moim zdrowiu i życiu, przyszłości decydują ludzie, którzy nie mają do tego żadnych prawnych podstaw w atrapie czegoś, co zostało z #TrybunałKonstytucyjny, a o moim człowieczeństwie hipokryci i karierowicze. Dość, dość, dość 😡  https://t.co/WMdfbZCMrl\n",
      "1319201785303736320 2020-10-22 08:59:49 +0000 <RuchNarodowy> Członek Zarządu Głównego @PUsiadek oraz @AKowalinski pod #TrybunałKonstytucyjny reprezentują nasze środowisko w walce o życie nienarodzonych dzieci.  #TarczaDlaŻycia  #ProLife\n",
      "1319200751336423424 2020-10-22 08:55:43 +0000 <AKowalinski> Razem z @PUsiadek reprezentujemy @RuchNarodowy i @KONFEDERACJA_ pod #TrybunałKonstytucyjny. Walczymy o życie nienarodzonych dzieci!  #ProLife #TarczaDlaŻycia #RuchNarodowy #Konfederacja  https://t.co/uGlfhhPUjg\n",
      "1319162011230572544 2020-10-22 06:21:46 +0000 <socjalistyczna> Wczoraj policja otoczyła kordonem aktywistki #StrajkKobiet protestujące pod budnynkiem #TrybunałKonstytucyjny. Dziś w tym samym budynku Trybunałoid Konstytucyjny wyda #WyrokNaKobiety i być może jeszcze bardziej ograniczy osobom dostęp do legalnej, bezpiecznej aborcji.\n",
      "1319161798491332608 2020-10-22 06:20:56 +0000 <True_Poland> Dziś 22 października #TrybunałKonstytucyjny wyda wyrok w sprawie zabijania chorych dzieci nienarodzonych.  TK powinien stanąć w obronie życia: #Konstytucja daje #PrawoDoŻycia od poczęcia: jest człowiek!  #ZatrzymajAborcję #StopAborcji #ProLife #ZaŻyciem   https://t.co/KE7wqw8qx2\n",
      "1319145708964950017 2020-10-22 05:17:00 +0000 <B_Maciejewska> Już dziś #TrybunałKonstytucyjny ma wydać wyrok na kobiety. W państwie w środku Europy, w 2020 roku, Polki staną się zakładniczkami prawicowej kasty, która uniemożliwi usuwanie ciąży w przypadku ciężkich wad płodu. Większość Polek i Polaków nie zgadza się z tym.  #KobietaDecyduje  https://t.co/CwZxPPXRcI\n",
      "1319142115713208320 2020-10-22 05:02:43 +0000 <m_bielecki_> 🔴 Dziś, #TrybunałKonstytucyjny, wyda decyzję co do zgodności z Konstytucją przepisów dot. \"aborcji eugenicznej\".  Wierzę, że sędziowie TK staną po stronie życia.   #ProLife #ZaŻyciem  https://t.co/rfyOYk3Fz4\n",
      "1318901978362236930 2020-10-21 13:08:30 +0000 <AkcjaDemokracja> Dziś rano Akcja Demokracja doręczyła do tzw. Trybunału Konstytucyjnego sprzeciw ponad 211 000 osób w sprawie zaostrzenia prawa antyaborcyjnego w Polsce. Dołącz teraz do ogólnopolskiego protestu:  https://t.co/5tZm5cC4RB #Aborcja #NieDlaZakazuAborcji #TrybunałKonstytucyjny  https://t.co/CxIeUyOo9A\n",
      "1318873485364658178 2020-10-21 11:15:17 +0000 <prasowiecpl>  https://t.co/QOnKlKmZhU  Więcej:  https://t.co/CpTTrhvKpD    #TK #RPO #prasowiecpl #prawo #RzecznikPrawObywatelskich #TrybunałKonstytucyjny\n",
      "[!] No more data! Scraping will stop now.\n",
      "found 0 deleted tweets in this search.\n"
     ]
    }
   ],
   "source": [
    "twint.run.Search(c)"
   ]
  },
  {
   "cell_type": "code",
   "execution_count": 103,
   "metadata": {},
   "outputs": [],
   "source": [
    "data = pd.read_csv('./hash_trybunal.csv', sep='\\t')"
   ]
  },
  {
   "cell_type": "code",
   "execution_count": 33,
   "metadata": {},
   "outputs": [
    {
     "output_type": "execute_result",
     "data": {
      "text/plain": [
       "Index(['id', 'conversation_id', 'created_at', 'date', 'time', 'timezone',\n",
       "       'user_id', 'username', 'name', 'place', 'tweet', 'language', 'mentions',\n",
       "       'urls', 'photos', 'replies_count', 'retweets_count', 'likes_count',\n",
       "       'hashtags', 'cashtags', 'link', 'retweet', 'quote_url', 'video',\n",
       "       'thumbnail', 'near', 'geo', 'source', 'user_rt_id', 'user_rt',\n",
       "       'retweet_id', 'reply_to', 'retweet_date', 'translate', 'trans_src',\n",
       "       'trans_dest'],\n",
       "      dtype='object')"
      ]
     },
     "metadata": {},
     "execution_count": 33
    }
   ],
   "source": [
    "data.columns"
   ]
  },
  {
   "cell_type": "code",
   "execution_count": 104,
   "metadata": {},
   "outputs": [
    {
     "output_type": "execute_result",
     "data": {
      "text/plain": [
       "1564"
      ]
     },
     "metadata": {},
     "execution_count": 104
    }
   ],
   "source": [
    "len(data['username'].unique())"
   ]
  },
  {
   "cell_type": "code",
   "execution_count": 105,
   "metadata": {},
   "outputs": [
    {
     "output_type": "execute_result",
     "data": {
      "text/plain": [
       "1564"
      ]
     },
     "metadata": {},
     "execution_count": 105
    }
   ],
   "source": [
    "len(data['user_id'].unique())"
   ]
  },
  {
   "cell_type": "code",
   "execution_count": 106,
   "metadata": {},
   "outputs": [
    {
     "output_type": "execute_result",
     "data": {
      "text/plain": [
       "158409901"
      ]
     },
     "metadata": {},
     "execution_count": 106
    }
   ],
   "source": [
    "data['user_id'].unique()[0]"
   ]
  },
  {
   "cell_type": "code",
   "execution_count": 54,
   "metadata": {},
   "outputs": [
    {
     "output_type": "execute_result",
     "data": {
      "text/plain": [
       "0       adrjanna\n",
       "1978    adrjanna\n",
       "2188    adrjanna\n",
       "Name: username, dtype: object"
      ]
     },
     "metadata": {},
     "execution_count": 54
    }
   ],
   "source": [
    "data[data['user_id'] == 158409901]['username']"
   ]
  },
  {
   "source": [
    "## FULL PROFILE - TWEETS AND RETWEETS"
   ],
   "cell_type": "markdown",
   "metadata": {}
  },
  {
   "cell_type": "code",
   "execution_count": 55,
   "metadata": {},
   "outputs": [],
   "source": [
    "c = twint.Config()\n",
    "c.Username = \"adrjanna\"\n",
    "c.Retweets = True\n",
    "c.Store_csv = True\n",
    "c.Output = (\"./user_profile.csv\")\n",
    "c.Since = '2020-10-22'\n",
    "c.Tabs = True"
   ]
  },
  {
   "cell_type": "code",
   "execution_count": 56,
   "metadata": {
    "tags": []
   },
   "outputs": [
    {
     "output_type": "stream",
     "name": "stdout",
     "text": [
      "1319603114647932930 2020-10-23 11:34:34 +0000 <adrjanna> brak słów..  #WyrokNaKobiety #TrybunałKonstytucyjny #KobietaDecyduje  https://t.co/MAEnmMsGQI\n",
      "1319577128141266951 2020-10-23 09:51:18 +0000 <adrjanna> RT @milczsukoo: ❗️Olsztyn, zaginięcie❗️ Podawajcie proszę dalej  https://t.co/EBxyLfSbI7\n",
      "1319570797430714368 2020-10-23 09:26:09 +0000 <adrjanna> ej a jak w czerwonej strefie cala polska jest to jak z pociągami??\n",
      "1319570641406799873 2020-10-23 09:25:32 +0000 <adrjanna> przeglądając stare wiadomości na messengerze z osobami z którymi już nie mam kontaktu zawsze sie boje ze coś klikne i ta osoba dostanie powiadomionko\n",
      "1319569242539331584 2020-10-23 09:19:58 +0000 <adrjanna> niech ktoś zabierze krzysiowi twitterka bo już mam dość\n",
      "1319378456963153921 2020-10-22 20:41:51 +0000 <adrjanna> @I_just_am__ 🌻\n",
      "1319324670143975429 2020-10-22 17:08:07 +0000 <adrjanna> włączylam tik toka i od razu boom boom i want you in my room-🤮🤮 dość tego\n",
      "1319305545849950209 2020-10-22 15:52:08 +0000 <adrjanna> tęsknię za moją dziewczyną  https://t.co/AEhQY290mu\n",
      "1319286709398368257 2020-10-22 14:37:17 +0000 <adrjanna> @krzysztofbosak faktycznie nic tylko być dumnym..\n",
      "1319280826677219330 2020-10-22 14:13:54 +0000 <adrjanna> wszyscy mówią o biedronkach a ja nie widzialam ani jednej 🤷🏻‍♀️\n",
      "1319275724902027264 2020-10-22 13:53:38 +0000 <adrjanna> przerażające jest to że #WyrokNaKobiety wydali głównie mężczyźni #TrybunałKonstytucyjny\n",
      "1319272792659881984 2020-10-22 13:41:59 +0000 <adrjanna> KURWA CZY TO SERIO PRZESZLO #TrybunałKonstytucyjny\n",
      "[!] No more data! Scraping will stop now.\n",
      "found 23 deleted tweets in this search.\n"
     ]
    }
   ],
   "source": [
    "twint.run.Profile(c)"
   ]
  },
  {
   "cell_type": "code",
   "execution_count": 110,
   "metadata": {},
   "outputs": [],
   "source": [
    "data = pd.read_csv('./user_profile.csv', sep='\\t')"
   ]
  },
  {
   "cell_type": "code",
   "execution_count": 58,
   "metadata": {},
   "outputs": [
    {
     "output_type": "execute_result",
     "data": {
      "text/plain": [
       "                    id      conversation_id               created_at  \\\n",
       "0  1319603114647932930  1319603114647932930  2020-10-23 11:34:34 UTC   \n",
       "1  1319577128141266951  1319577128141266951  2020-10-23 09:51:18 UTC   \n",
       "2  1319570797430714368  1319570797430714368  2020-10-23 09:26:09 UTC   \n",
       "3  1319570641406799873  1319570641406799873  2020-10-23 09:25:32 UTC   \n",
       "4  1319569242539331584  1319569242539331584  2020-10-23 09:19:58 UTC   \n",
       "\n",
       "         date      time  timezone    user_id  username name  place  ... geo  \\\n",
       "0  2020-10-23  11:34:34         0  158409901  adrjanna    🦋    NaN  ... NaN   \n",
       "1  2020-10-23  09:51:18         0  158409901  adrjanna    🦋    NaN  ... NaN   \n",
       "2  2020-10-23  09:26:09         0  158409901  adrjanna    🦋    NaN  ... NaN   \n",
       "3  2020-10-23  09:25:32         0  158409901  adrjanna    🦋    NaN  ... NaN   \n",
       "4  2020-10-23  09:19:58         0  158409901  adrjanna    🦋    NaN  ... NaN   \n",
       "\n",
       "  source    user_rt_id                                            user_rt  \\\n",
       "0    NaN           NaN                                                NaN   \n",
       "1    NaN  1.137800e+18  ❗️Olsztyn, zaginięcie❗️\\nPodawajcie proszę dal...   \n",
       "2    NaN           NaN                                                NaN   \n",
       "3    NaN           NaN                                                NaN   \n",
       "4    NaN           NaN                                                NaN   \n",
       "\n",
       "     retweet_id  reply_to             retweet_date  translate trans_src  \\\n",
       "0           NaN        []                      NaN        NaN       NaN   \n",
       "1  1.319548e+18        []  2020-10-23 07:54:44 UTC        NaN       NaN   \n",
       "2           NaN        []                      NaN        NaN       NaN   \n",
       "3           NaN        []                      NaN        NaN       NaN   \n",
       "4           NaN        []                      NaN        NaN       NaN   \n",
       "\n",
       "  trans_dest  \n",
       "0        NaN  \n",
       "1        NaN  \n",
       "2        NaN  \n",
       "3        NaN  \n",
       "4        NaN  \n",
       "\n",
       "[5 rows x 36 columns]"
      ],
      "text/html": "<div>\n<style scoped>\n    .dataframe tbody tr th:only-of-type {\n        vertical-align: middle;\n    }\n\n    .dataframe tbody tr th {\n        vertical-align: top;\n    }\n\n    .dataframe thead th {\n        text-align: right;\n    }\n</style>\n<table border=\"1\" class=\"dataframe\">\n  <thead>\n    <tr style=\"text-align: right;\">\n      <th></th>\n      <th>id</th>\n      <th>conversation_id</th>\n      <th>created_at</th>\n      <th>date</th>\n      <th>time</th>\n      <th>timezone</th>\n      <th>user_id</th>\n      <th>username</th>\n      <th>name</th>\n      <th>place</th>\n      <th>...</th>\n      <th>geo</th>\n      <th>source</th>\n      <th>user_rt_id</th>\n      <th>user_rt</th>\n      <th>retweet_id</th>\n      <th>reply_to</th>\n      <th>retweet_date</th>\n      <th>translate</th>\n      <th>trans_src</th>\n      <th>trans_dest</th>\n    </tr>\n  </thead>\n  <tbody>\n    <tr>\n      <th>0</th>\n      <td>1319603114647932930</td>\n      <td>1319603114647932930</td>\n      <td>2020-10-23 11:34:34 UTC</td>\n      <td>2020-10-23</td>\n      <td>11:34:34</td>\n      <td>0</td>\n      <td>158409901</td>\n      <td>adrjanna</td>\n      <td>🦋</td>\n      <td>NaN</td>\n      <td>...</td>\n      <td>NaN</td>\n      <td>NaN</td>\n      <td>NaN</td>\n      <td>NaN</td>\n      <td>NaN</td>\n      <td>[]</td>\n      <td>NaN</td>\n      <td>NaN</td>\n      <td>NaN</td>\n      <td>NaN</td>\n    </tr>\n    <tr>\n      <th>1</th>\n      <td>1319577128141266951</td>\n      <td>1319577128141266951</td>\n      <td>2020-10-23 09:51:18 UTC</td>\n      <td>2020-10-23</td>\n      <td>09:51:18</td>\n      <td>0</td>\n      <td>158409901</td>\n      <td>adrjanna</td>\n      <td>🦋</td>\n      <td>NaN</td>\n      <td>...</td>\n      <td>NaN</td>\n      <td>NaN</td>\n      <td>1.137800e+18</td>\n      <td>❗️Olsztyn, zaginięcie❗️\\nPodawajcie proszę dal...</td>\n      <td>1.319548e+18</td>\n      <td>[]</td>\n      <td>2020-10-23 07:54:44 UTC</td>\n      <td>NaN</td>\n      <td>NaN</td>\n      <td>NaN</td>\n    </tr>\n    <tr>\n      <th>2</th>\n      <td>1319570797430714368</td>\n      <td>1319570797430714368</td>\n      <td>2020-10-23 09:26:09 UTC</td>\n      <td>2020-10-23</td>\n      <td>09:26:09</td>\n      <td>0</td>\n      <td>158409901</td>\n      <td>adrjanna</td>\n      <td>🦋</td>\n      <td>NaN</td>\n      <td>...</td>\n      <td>NaN</td>\n      <td>NaN</td>\n      <td>NaN</td>\n      <td>NaN</td>\n      <td>NaN</td>\n      <td>[]</td>\n      <td>NaN</td>\n      <td>NaN</td>\n      <td>NaN</td>\n      <td>NaN</td>\n    </tr>\n    <tr>\n      <th>3</th>\n      <td>1319570641406799873</td>\n      <td>1319570641406799873</td>\n      <td>2020-10-23 09:25:32 UTC</td>\n      <td>2020-10-23</td>\n      <td>09:25:32</td>\n      <td>0</td>\n      <td>158409901</td>\n      <td>adrjanna</td>\n      <td>🦋</td>\n      <td>NaN</td>\n      <td>...</td>\n      <td>NaN</td>\n      <td>NaN</td>\n      <td>NaN</td>\n      <td>NaN</td>\n      <td>NaN</td>\n      <td>[]</td>\n      <td>NaN</td>\n      <td>NaN</td>\n      <td>NaN</td>\n      <td>NaN</td>\n    </tr>\n    <tr>\n      <th>4</th>\n      <td>1319569242539331584</td>\n      <td>1319569242539331584</td>\n      <td>2020-10-23 09:19:58 UTC</td>\n      <td>2020-10-23</td>\n      <td>09:19:58</td>\n      <td>0</td>\n      <td>158409901</td>\n      <td>adrjanna</td>\n      <td>🦋</td>\n      <td>NaN</td>\n      <td>...</td>\n      <td>NaN</td>\n      <td>NaN</td>\n      <td>NaN</td>\n      <td>NaN</td>\n      <td>NaN</td>\n      <td>[]</td>\n      <td>NaN</td>\n      <td>NaN</td>\n      <td>NaN</td>\n      <td>NaN</td>\n    </tr>\n  </tbody>\n</table>\n<p>5 rows × 36 columns</p>\n</div>"
     },
     "metadata": {},
     "execution_count": 58
    }
   ],
   "source": [
    "data.head()"
   ]
  }
 ]
}