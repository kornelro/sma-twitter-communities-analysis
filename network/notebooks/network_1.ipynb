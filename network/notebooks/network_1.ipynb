{
 "cells": [
  {
   "cell_type": "code",
   "execution_count": 1,
   "metadata": {},
   "outputs": [],
   "source": [
    "import pandas as pd\n",
    "import os\n",
    "from tqdm import tqdm\n",
    "import networkx as nx"
   ]
  },
  {
   "cell_type": "code",
   "execution_count": 2,
   "metadata": {},
   "outputs": [],
   "source": [
    "tqdm.pandas()"
   ]
  },
  {
   "cell_type": "code",
   "execution_count": 3,
   "metadata": {},
   "outputs": [],
   "source": [
    "USERS_DIR = '../data/23_17_38_2/users/'"
   ]
  },
  {
   "cell_type": "code",
   "execution_count": 4,
   "metadata": {},
   "outputs": [
    {
     "data": {
      "text/plain": [
       "1601"
      ]
     },
     "execution_count": 4,
     "metadata": {},
     "output_type": "execute_result"
    }
   ],
   "source": [
    "len(os.listdir(USERS_DIR))"
   ]
  },
  {
   "cell_type": "markdown",
   "metadata": {},
   "source": [
    "### Read all users data"
   ]
  },
  {
   "cell_type": "code",
   "execution_count": 5,
   "metadata": {},
   "outputs": [
    {
     "name": "stderr",
     "output_type": "stream",
     "text": [
      "100%|██████████| 1600/1600 [09:39<00:00,  2.76it/s]\n"
     ]
    }
   ],
   "source": [
    "users = os.listdir(USERS_DIR)\n",
    "data = pd.read_csv(USERS_DIR+users.pop(), sep='\\t')\n",
    "\n",
    "for user in tqdm(users):\n",
    "    data = data.append(\n",
    "        pd.read_csv(USERS_DIR+user, sep='\\t')\n",
    "    )"
   ]
  },
  {
   "cell_type": "code",
   "execution_count": 8,
   "metadata": {},
   "outputs": [
    {
     "name": "stderr",
     "output_type": "stream",
     "text": [
      " 52%|█████▏    | 205158/396862 [00:05<00:04, 39890.35it/s]\n",
      "list index out of range\n",
      "True\n",
      "\n",
      "'float' object has no attribute 'split'\n",
      "nan\n",
      "\n",
      "'float' object has no attribute 'split'\n",
      "nan\n",
      "100%|██████████| 396862/396862 [00:10<00:00, 36125.50it/s]\n"
     ]
    }
   ],
   "source": [
    "def get_retweeted_user(row):\n",
    "    retweeted_user = None\n",
    "    if row['retweet']:\n",
    "        try:\n",
    "            retweeted_user = row['tweet'].split(' ')[1][1:-1]\n",
    "        except Exception as e:\n",
    "            print()\n",
    "            print(e)\n",
    "            print(row['tweet'])\n",
    "\n",
    "    return retweeted_user \n",
    "\n",
    "data['retweeted_user'] = data.progress_apply(get_retweeted_user, axis=1)"
   ]
  },
  {
   "cell_type": "code",
   "execution_count": 11,
   "metadata": {},
   "outputs": [],
   "source": [
    "data.to_csv('../data/23_17_38_2/all_users.csv')"
   ]
  },
  {
   "cell_type": "code",
   "execution_count": 12,
   "metadata": {},
   "outputs": [],
   "source": [
    "# data = pd.read_csv('../data/23_17_38_2/all_users.csv')"
   ]
  },
  {
   "cell_type": "code",
   "execution_count": 13,
   "metadata": {},
   "outputs": [
    {
     "name": "stdout",
     "output_type": "stream",
     "text": [
      "<class 'pandas.core.frame.DataFrame'>\n",
      "Int64Index: 396862 entries, 0 to 55\n",
      "Data columns (total 39 columns):\n",
      " #   Column           Non-Null Count   Dtype  \n",
      "---  ------           --------------   -----  \n",
      " 0   Unnamed: 0       396862 non-null  object \n",
      " 1   id               396861 non-null  object \n",
      " 2   conversation_id  396861 non-null  object \n",
      " 3   created_at       396861 non-null  object \n",
      " 4   date             396860 non-null  object \n",
      " 5   time             396860 non-null  object \n",
      " 6   timezone         396860 non-null  float64\n",
      " 7   user_id          396861 non-null  float64\n",
      " 8   username         396860 non-null  object \n",
      " 9   name             396860 non-null  object \n",
      " 10  place            18 non-null      object \n",
      " 11  tweet            396860 non-null  object \n",
      " 12  language         396859 non-null  object \n",
      " 13  mentions         396859 non-null  object \n",
      " 14  urls             396858 non-null  object \n",
      " 15  photos           396858 non-null  object \n",
      " 16  replies_count    396858 non-null  float64\n",
      " 17  retweets_count   396858 non-null  float64\n",
      " 18  likes_count      396859 non-null  float64\n",
      " 19  hashtags         396859 non-null  object \n",
      " 20  cashtags         396858 non-null  object \n",
      " 21  link             396858 non-null  object \n",
      " 22  retweet          396858 non-null  object \n",
      " 23  quote_url        396858 non-null  object \n",
      " 24  video            396858 non-null  float64\n",
      " 25  thumbnail        73974 non-null   object \n",
      " 26  near             0 non-null       float64\n",
      " 27  geo              0 non-null       float64\n",
      " 28  source           0 non-null       float64\n",
      " 29  user_rt_id       111140 non-null  float64\n",
      " 30  user_rt          111139 non-null  object \n",
      " 31  retweet_id       111140 non-null  float64\n",
      " 32  reply_to         396858 non-null  object \n",
      " 33  retweet_date     111140 non-null  object \n",
      " 34  translate        0 non-null       float64\n",
      " 35  trans_src        0 non-null       float64\n",
      " 36  trans_dest       0 non-null       float64\n",
      " 37  polarity         396858 non-null  float64\n",
      " 38  retweeted_user   111141 non-null  object \n",
      "dtypes: float64(15), object(24)\n",
      "memory usage: 121.1+ MB\n"
     ]
    }
   ],
   "source": [
    "data.info()"
   ]
  },
  {
   "cell_type": "markdown",
   "metadata": {},
   "source": [
    "### Create graph"
   ]
  },
  {
   "cell_type": "code",
   "execution_count": 10,
   "metadata": {},
   "outputs": [],
   "source": [
    "users = data['username'].unique()"
   ]
  },
  {
   "cell_type": "code",
   "execution_count": 11,
   "metadata": {
    "tags": []
   },
   "outputs": [
    {
     "name": "stderr",
     "output_type": "stream",
     "text": [
      "100%|██████████| 1602/1602 [00:33<00:00, 47.56it/s]\n"
     ]
    }
   ],
   "source": [
    "G = nx.DiGraph()\n",
    "\n",
    "for user in tqdm(users):\n",
    "    user_data = data[data['username'] == user]\n",
    "    rt_users = user_data[user_data['retweet'] == True]['retweeted_user'].unique()\n",
    "    \n",
    "    for rt_user in rt_users:\n",
    "        if rt_user is not None and user is not None:\n",
    "            G.add_edge(rt_user, user)"
   ]
  },
  {
   "cell_type": "code",
   "execution_count": 12,
   "metadata": {},
   "outputs": [
    {
     "data": {
      "text/plain": [
       "26371"
      ]
     },
     "execution_count": 12,
     "metadata": {},
     "output_type": "execute_result"
    }
   ],
   "source": [
    "len(G.nodes)"
   ]
  },
  {
   "cell_type": "code",
   "execution_count": 13,
   "metadata": {},
   "outputs": [
    {
     "data": {
      "text/plain": [
       "70422"
      ]
     },
     "execution_count": 13,
     "metadata": {},
     "output_type": "execute_result"
    }
   ],
   "source": [
    "len(G.edges)"
   ]
  },
  {
   "cell_type": "markdown",
   "metadata": {},
   "source": [
    "### Take giant component"
   ]
  },
  {
   "cell_type": "code",
   "execution_count": 14,
   "metadata": {},
   "outputs": [],
   "source": [
    "giant = max(nx.weakly_connected_components(G), key=len)\n",
    "giant = G.subgraph(giant)"
   ]
  },
  {
   "cell_type": "code",
   "execution_count": 15,
   "metadata": {},
   "outputs": [
    {
     "data": {
      "text/plain": [
       "26335"
      ]
     },
     "execution_count": 15,
     "metadata": {},
     "output_type": "execute_result"
    }
   ],
   "source": [
    "len(giant.nodes)"
   ]
  },
  {
   "cell_type": "code",
   "execution_count": 16,
   "metadata": {},
   "outputs": [
    {
     "data": {
      "text/plain": [
       "70403"
      ]
     },
     "execution_count": 16,
     "metadata": {},
     "output_type": "execute_result"
    }
   ],
   "source": [
    "len(giant.edges)"
   ]
  },
  {
   "cell_type": "markdown",
   "metadata": {},
   "source": [
    "### Save graph"
   ]
  },
  {
   "cell_type": "code",
   "execution_count": 18,
   "metadata": {},
   "outputs": [],
   "source": [
    "nx.write_edgelist(giant, '../data/23_17_38_2/full_graph.txt', delimiter=',')"
   ]
  }
 ],
 "metadata": {
  "kernelspec": {
   "display_name": "Python 3",
   "language": "python",
   "name": "python3"
  },
  "language_info": {
   "codemirror_mode": {
    "name": "ipython",
    "version": 3
   },
   "file_extension": ".py",
   "mimetype": "text/x-python",
   "name": "python",
   "nbconvert_exporter": "python",
   "pygments_lexer": "ipython3",
   "version": "3.6.12"
  }
 },
 "nbformat": 4,
 "nbformat_minor": 2
}
